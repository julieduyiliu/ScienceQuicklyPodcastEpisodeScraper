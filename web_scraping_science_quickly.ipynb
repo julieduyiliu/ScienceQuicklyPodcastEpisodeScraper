{
 "cells": [
  {
   "cell_type": "markdown",
   "metadata": {},
   "source": [
    "## Web Scrape Episodes from Scientific American’s Science Quickly Podcast\n",
    "\n",
    "This notebook is designed to scrape episode information from the Science Quickly Podcast, available at Scientific American’s website: https://www.scientificamerican.com/podcast/science-quickly/\n",
    "\n",
    "The notebook retrieves:\n",
    "\n",
    "- Episode title\n",
    "- Release date\n",
    "- Category\n",
    "- Summary\n",
    "- Authors\n",
    "\n",
    "The data is saved in a CSV file."
   ]
  },
  {
   "cell_type": "markdown",
   "metadata": {},
   "source": [
    "### 1. Set up"
   ]
  },
  {
   "cell_type": "code",
   "execution_count": 41,
   "metadata": {},
   "outputs": [],
   "source": [
    "## importing library packages\n",
    "import pandas as pd\n",
    "from selenium import webdriver\n",
    "from selenium.webdriver.firefox.service import Service\n",
    "from selenium.webdriver.common.by import By\n",
    "from selenium.webdriver.firefox.options import Options\n",
    "import time"
   ]
  },
  {
   "cell_type": "code",
   "execution_count": 42,
   "metadata": {},
   "outputs": [],
   "source": [
    "# Set Firefox options (optional, for example, headless mode)\n",
    "options = Options()\n",
    "options.headless = True  # Optional, set True for headless mode\n",
    "\n",
    "# Create a Service object to specify the geckodriver path\n",
    "service = Service(\"/Users/julieliu/geckodriver\")  # Adjust the path to your geckodriver"
   ]
  },
  {
   "cell_type": "markdown",
   "metadata": {},
   "source": [
    "### 2. Start scrap\n",
    "\n",
    "This step will cost around 4 minutes"
   ]
  },
  {
   "cell_type": "code",
   "execution_count": null,
   "metadata": {},
   "outputs": [],
   "source": [
    "# Initialize the WebDriver\n",
    "driver = webdriver.Firefox(service=service, options=options)\n",
    "\n",
    "# Generate the list of URLs for pages 1 to 50\n",
    "url_list = [f\"https://www.scientificamerican.com/podcast/science-quickly/?page={i}\" for i in range(1, 51)]\n",
    "\n",
    "# create a list to store the extracted information\n",
    "data = []\n",
    "\n",
    "# Loop through each URL\n",
    "for url in url_list:\n",
    "    try:\n",
    "        # Visit the page\n",
    "        driver.get(url)\n",
    "        print(f\"Scraping URL: {url}\")\n",
    "        \n",
    "        # Allow some time for the page to load\n",
    "        driver.implicitly_wait(5)\n",
    "        \n",
    "        # Find all articles representing episodes on the page\n",
    "        episodes = driver.find_elements(By.CSS_SELECTOR, 'article.article-pFLe7')\n",
    "\n",
    "        # Loop through each episode and extract the information\n",
    "        for episode in episodes:\n",
    "            try:\n",
    "                # Extract the title\n",
    "                title_element = episode.find_element(By.CSS_SELECTOR, 'h2.articleTitle-mtY5p')\n",
    "                title = title_element.text\n",
    "\n",
    "                # Extract the summary\n",
    "                summary_element = episode.find_element(By.CSS_SELECTOR, 'div.dek-KweYs p')\n",
    "                summary = summary_element.text\n",
    "\n",
    "                # Extract the authors\n",
    "                author_element = episode.find_element(By.CSS_SELECTOR, 'p.authors-NCGt1')\n",
    "                authors = author_element.text\n",
    "\n",
    "                # Extract the category (e.g., \"Spacecraft\")\n",
    "                category_element = episode.find_element(By.CSS_SELECTOR, 'div.kicker-EEaW-')\n",
    "                category = category_element.text.split('\\n')[0]  # Take only the first line\n",
    "\n",
    "                # Extract the date (e.g., \"September 13, 2024\")\n",
    "                date_element = episode.find_element(By.CSS_SELECTOR, 'span.kickerMeta-0zV3t')\n",
    "                date = date_element.text\n",
    "\n",
    "                # Append the data as a dictionary to the list\n",
    "                data.append({\n",
    "                    \"Title\": title,\n",
    "                    \"Date\": date,\n",
    "                    \"Category\": category,\n",
    "                    \"Summary\": summary,\n",
    "                    \"Authors\": authors\n",
    "                })\n",
    "            \n",
    "            except Exception as e:\n",
    "                print(f\"Error extracting episode: {e}\")\n",
    "\n",
    "        # Pause for a short time to avoid overwhelming the server\n",
    "        time.sleep(2)\n",
    "\n",
    "    except Exception as e:\n",
    "        print(f\"Error scraping page {url}: {e}\")\n",
    "\n",
    "# Close the browser\n",
    "driver.quit()"
   ]
  },
  {
   "cell_type": "markdown",
   "metadata": {},
   "source": [
    "### 3. Store the results"
   ]
  },
  {
   "cell_type": "code",
   "execution_count": null,
   "metadata": {},
   "outputs": [],
   "source": [
    "# Convert the list of dictionaries to a pandas DataFrame\n",
    "df = pd.DataFrame(data)\n",
    "\n",
    "# Save the DataFrame to a CSV file\n",
    "df.to_csv(\"podcast_episodes.csv\", index=False)\n",
    "\n",
    "\n",
    "# Print the DataFrame\n",
    "print(df)"
   ]
  }
 ],
 "metadata": {
  "kernelspec": {
   "display_name": "base",
   "language": "python",
   "name": "python3"
  },
  "language_info": {
   "codemirror_mode": {
    "name": "ipython",
    "version": 3
   },
   "file_extension": ".py",
   "mimetype": "text/x-python",
   "name": "python",
   "nbconvert_exporter": "python",
   "pygments_lexer": "ipython3",
   "version": "3.12.4"
  }
 },
 "nbformat": 4,
 "nbformat_minor": 2
}
